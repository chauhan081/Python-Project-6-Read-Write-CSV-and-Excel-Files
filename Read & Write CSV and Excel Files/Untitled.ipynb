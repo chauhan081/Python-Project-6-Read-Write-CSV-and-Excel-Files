{
 "cells": [
  {
   "cell_type": "code",
   "execution_count": 2,
   "id": "c23b3e05-17fb-4595-a4ec-3f18891d7328",
   "metadata": {},
   "outputs": [
    {
     "name": "stdout",
     "output_type": "stream",
     "text": [
      "CSV Data:\n",
      "   ID         Name  Age  Grade  Marks\n",
      "0   1  Amit Sharma   16     10     85\n",
      "1   2   Neha Gupta   15      9     92\n",
      "2   3  Rahul Verma   17     11     78\n",
      "3   4  Priya Singh   16     10     88\n",
      "4   5  Karan Patel   15      9     95\n",
      "5   6  Sneha Reddy   17     11     82\n",
      "6   7  Arjun Mehta   16     10     74\n",
      "7   8  Simran Kaur   15      9     89\n",
      "8   9   Vikram Das   17     11     91\n",
      "9  10  Anjali Nair   16     10     87\n",
      "\n",
      "Excel Data:\n",
      "   ID         Name  Age  Grade  Marks\n",
      "0   1  Amit Sharma   16     10     85\n",
      "1   2   Neha Gupta   15      9     92\n",
      "2   3  Rahul Verma   17     11     78\n",
      "3   4  Priya Singh   16     10     88\n",
      "4   5  Karan Patel   15      9     95\n",
      "5   6  Sneha Reddy   17     11     82\n",
      "6   7  Arjun Mehta   16     10     74\n",
      "7   8  Simran Kaur   15      9     89\n",
      "8   9   Vikram Das   17     11     91\n",
      "9  10  Anjali Nair   16     10     87\n"
     ]
    }
   ],
   "source": [
    "import pandas as pd\n",
    "\n",
    "#Read data from CSV\n",
    "csv_data = pd.read_csv(\"data.csv\")\n",
    "print(\"CSV Data:\")\n",
    "print(csv_data)\n",
    "\n",
    "#Write to Excel\n",
    "csv_data.to_excel(\"data_output.xlsx\", index=False)\n",
    "\n",
    "#Read back from Excel\n",
    "excel_data = pd.read_excel(\"data_output.xlsx\")\n",
    "print(\"\\nExcel Data:\")\n",
    "print(excel_data)"
   ]
  },
  {
   "cell_type": "code",
   "execution_count": null,
   "id": "299e65f6-8fd1-42e5-bb77-8685c007929e",
   "metadata": {},
   "outputs": [],
   "source": []
  }
 ],
 "metadata": {
  "kernelspec": {
   "display_name": "Python 3 (ipykernel)",
   "language": "python",
   "name": "python3"
  },
  "language_info": {
   "codemirror_mode": {
    "name": "ipython",
    "version": 3
   },
   "file_extension": ".py",
   "mimetype": "text/x-python",
   "name": "python",
   "nbconvert_exporter": "python",
   "pygments_lexer": "ipython3",
   "version": "3.13.5"
  }
 },
 "nbformat": 4,
 "nbformat_minor": 5
}
